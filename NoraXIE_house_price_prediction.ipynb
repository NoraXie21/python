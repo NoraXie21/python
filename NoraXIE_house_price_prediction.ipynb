{
 "cells": [
  {
   "cell_type": "markdown",
   "id": "44836d4f",
   "metadata": {},
   "source": [
    "\n",
    "# <h1 style=' border:2; border-radius: 10px; font-size:220%; font-weight: bold; color:black'><center>5312 Project</center></h1> "
   ]
  },
  {
   "cell_type": "markdown",
   "id": "8f4ce1a7",
   "metadata": {},
   "source": [
    "<a id='top'></a>\n",
    "<div class=\"list-group\" id=\"list-tab\" role=\"tablist\">\n",
    "    \n",
    "<h1 border:0; border-radius: 10px; color:black'><center> TABLE OF CONTENTS </center></h1>\n",
    "\n",
    "### [**3.1 Read data from txt file**](#title-one)\n",
    "    \n",
    "### [**3.2 Pre-processing data and store new data into CSV file**](#title-two)\n",
    "\n",
    "### [**3.3 Combining data from two sources**](#title-three)\n",
    "\n",
    "### [**3.4 Exploratory data analysis**](#title-four)\n",
    "                                               \n",
    "### [**3.5 Partitioning data and predicting housing prices**](#title-five) \n",
    "\n",
    "### [**3.5.2 Predictive Model Buliding**](#title-3.5.2) \n",
    "    \n",
    "### [**1. Linear Regression**](#title-3.5.2.1)\n",
    "\n",
    "### [**2. Decision Tree**](#title-3.5.2.2)\n",
    "                                               \n",
    "### [**3. Ensemble**](#title-3.5.2.3)\n"
   ]
  },
  {
   "cell_type": "markdown",
   "id": "e3630c6e",
   "metadata": {},
   "source": [
    "<a id=\"title-one\"></a>\n",
    "## **<span>3.1 Read data from txt file  </span>**"
   ]
  },
  {
   "cell_type": "markdown",
   "id": "bd64cecf",
   "metadata": {},
   "source": [
    "### 1. Please write code to read data stored in the file named cadata.txt. "
   ]
  },
  {
   "cell_type": "code",
   "execution_count": 1,
   "id": "94bbcf49",
   "metadata": {},
   "outputs": [],
   "source": [
    "f = open(\"cadata.txt\",\"r\")"
   ]
  },
  {
   "cell_type": "markdown",
   "id": "41764c39",
   "metadata": {},
   "source": [
    "### 2. Please delete the brief introduction content at the first several lines of the file and only keep those data for the variables."
   ]
  },
  {
   "cell_type": "code",
   "execution_count": 2,
   "id": "3912bcc9",
   "metadata": {},
   "outputs": [
    {
     "name": "stdout",
     "output_type": "stream",
     "text": [
      "1\t4.5260000000000000e+005\t8.3252000000000006e+000\t4.1000000000000000e+001\t8.8000000000000000e+002\t1.2900000000000000e+002\t3.2200000000000000e+002\t1.2600000000000000e+002\t3.7880000000000003e+001 -1.2223000000000000e+002\n",
      "\n"
     ]
    }
   ],
   "source": [
    "data_lst=[]\n",
    "for row in f:\n",
    "    if row[0].isnumeric(): # Skip all introduction content\n",
    "        data_lst.append(row)\n",
    "f.close()\n",
    "\n",
    "print(data_lst[0])"
   ]
  },
  {
   "cell_type": "markdown",
   "id": "6daa31e6",
   "metadata": {},
   "source": [
    "#### Notice that the file mixes tab with space. We need to deal with it later."
   ]
  },
  {
   "cell_type": "code",
   "execution_count": 3,
   "id": "b62e6aeb",
   "metadata": {},
   "outputs": [],
   "source": [
    "f= open('cadata.txt','w')\n",
    "for row in data_lst:\n",
    "    f.write(row)\n",
    "f.close()"
   ]
  },
  {
   "cell_type": "markdown",
   "id": "c74f32bd",
   "metadata": {},
   "source": [
    "### 3. Please store the remained data into a list with each row being an element."
   ]
  },
  {
   "cell_type": "code",
   "execution_count": 4,
   "id": "c69d8b6a",
   "metadata": {},
   "outputs": [],
   "source": [
    "f = open(\"cadata.txt\",\"r\")\n",
    "cadata_lst=[]\n",
    "for row in f:\n",
    "    # Because this txt file mixes tab with space\n",
    "    row = row.replace(' ', '\\t') #  Replace all space with tab\n",
    "    obs = row.split('\\t')\n",
    "    cadata_lst.append(obs)\n",
    "f.close()\n"
   ]
  },
  {
   "cell_type": "code",
   "execution_count": 5,
   "id": "7addf25e",
   "metadata": {},
   "outputs": [
    {
     "name": "stdout",
     "output_type": "stream",
     "text": [
      "20640\n",
      "['1', '4.5260000000000000e+005', '8.3252000000000006e+000', '4.1000000000000000e+001', '8.8000000000000000e+002', '1.2900000000000000e+002', '3.2200000000000000e+002', '1.2600000000000000e+002', '3.7880000000000003e+001', '-1.2223000000000000e+002\\n']\n",
      "10\n"
     ]
    }
   ],
   "source": [
    "# So we use a list to store the data in cadata.txt\n",
    "print(len(cadata_lst))\n",
    "# There are 20640 elements in this list, each represents a row(observation)\n",
    "print(cadata_lst[0])\n",
    "print(len(cadata_lst[0]))\n",
    "# Each element consists of 10 variables"
   ]
  },
  {
   "cell_type": "markdown",
   "id": "c72aaef6",
   "metadata": {},
   "source": [
    "<a id=\"title-two\"></a>\n",
    "## **<span>3.2 Pre-processing data and store new data into CSV file  </span>**"
   ]
  },
  {
   "cell_type": "markdown",
   "id": "e253a53c",
   "metadata": {},
   "source": [
    "### 1. In the file cadata.txt, for each line, variables are separated by Tabs. Now please replace Tabs with commas for each line. As a result, the data in each line will become comma-separated."
   ]
  },
  {
   "cell_type": "code",
   "execution_count": 6,
   "id": "9b449fdb",
   "metadata": {},
   "outputs": [],
   "source": [
    "nf= open('newcadata.txt','w')\n",
    "for obs in cadata_lst:\n",
    "    newline = ','.join(obs)\n",
    "    nf.writelines(newline)\n",
    "nf.close()"
   ]
  },
  {
   "cell_type": "markdown",
   "id": "719bd589",
   "metadata": {},
   "source": [
    "### 2.  Please create a new CSV file named cadata.csv, with the first line being the names of these variables in the file cadata.csv. These variable names are separated by commas as all. For the names, please see the data description of the first file named cadata.txt.\n"
   ]
  },
  {
   "cell_type": "markdown",
   "id": "d0a64f07",
   "metadata": {},
   "source": [
    "#### From cadata.txt we know that 10 variables are in this order:\n",
    "- block group id, median house value, median income, housing median age, total rooms, total bedrooms, population, households, latitude, and longitude "
   ]
  },
  {
   "cell_type": "code",
   "execution_count": 7,
   "id": "9d507409",
   "metadata": {},
   "outputs": [],
   "source": [
    "ca_variables=['block_group_id','median_house_value', 'median_income', 'housing_median_age', 'total_rooms', \n",
    " 'total_bedrooms', 'population', 'households', 'latitude', 'longitude'] "
   ]
  },
  {
   "cell_type": "code",
   "execution_count": 8,
   "id": "cd2307b2",
   "metadata": {},
   "outputs": [],
   "source": [
    "import pandas as pd\n",
    "# Set comma as separator\n",
    "df1 = pd.read_csv(\"newcadata.txt\", sep=\",\",header=None,names=ca_variables)"
   ]
  },
  {
   "cell_type": "markdown",
   "id": "80cc1556",
   "metadata": {},
   "source": [
    "### 3. Please convert the data read from cadata.txt from the scientific notation to normal numbers or fractions with four decimals after the point. For example, the number in the scientific notation 3.2200000000000e+002 should be converted to 322.0000. "
   ]
  },
  {
   "cell_type": "code",
   "execution_count": 9,
   "id": "bd9a212f",
   "metadata": {},
   "outputs": [
    {
     "data": {
      "text/html": [
       "<div>\n",
       "<style scoped>\n",
       "    .dataframe tbody tr th:only-of-type {\n",
       "        vertical-align: middle;\n",
       "    }\n",
       "\n",
       "    .dataframe tbody tr th {\n",
       "        vertical-align: top;\n",
       "    }\n",
       "\n",
       "    .dataframe thead th {\n",
       "        text-align: right;\n",
       "    }\n",
       "</style>\n",
       "<table border=\"1\" class=\"dataframe\">\n",
       "  <thead>\n",
       "    <tr style=\"text-align: right;\">\n",
       "      <th></th>\n",
       "      <th>block_group_id</th>\n",
       "      <th>median_house_value</th>\n",
       "      <th>median_income</th>\n",
       "      <th>housing_median_age</th>\n",
       "      <th>total_rooms</th>\n",
       "      <th>total_bedrooms</th>\n",
       "      <th>population</th>\n",
       "      <th>households</th>\n",
       "      <th>latitude</th>\n",
       "      <th>longitude</th>\n",
       "    </tr>\n",
       "  </thead>\n",
       "  <tbody>\n",
       "    <tr>\n",
       "      <th>0</th>\n",
       "      <td>1</td>\n",
       "      <td>452600.0000</td>\n",
       "      <td>8.3252</td>\n",
       "      <td>41.0000</td>\n",
       "      <td>880.0000</td>\n",
       "      <td>129.0000</td>\n",
       "      <td>322.0000</td>\n",
       "      <td>126.0000</td>\n",
       "      <td>37.8800</td>\n",
       "      <td>-122.2300</td>\n",
       "    </tr>\n",
       "    <tr>\n",
       "      <th>1</th>\n",
       "      <td>2</td>\n",
       "      <td>358500.0000</td>\n",
       "      <td>8.3014</td>\n",
       "      <td>21.0000</td>\n",
       "      <td>7099.0000</td>\n",
       "      <td>1106.0000</td>\n",
       "      <td>2401.0000</td>\n",
       "      <td>1138.0000</td>\n",
       "      <td>37.8600</td>\n",
       "      <td>-122.2200</td>\n",
       "    </tr>\n",
       "    <tr>\n",
       "      <th>2</th>\n",
       "      <td>3</td>\n",
       "      <td>352100.0000</td>\n",
       "      <td>7.2574</td>\n",
       "      <td>52.0000</td>\n",
       "      <td>1467.0000</td>\n",
       "      <td>190.0000</td>\n",
       "      <td>496.0000</td>\n",
       "      <td>177.0000</td>\n",
       "      <td>37.8500</td>\n",
       "      <td>-122.2400</td>\n",
       "    </tr>\n",
       "  </tbody>\n",
       "</table>\n",
       "</div>"
      ],
      "text/plain": [
       "   block_group_id  median_house_value  median_income  housing_median_age  \\\n",
       "0               1         452600.0000         8.3252             41.0000   \n",
       "1               2         358500.0000         8.3014             21.0000   \n",
       "2               3         352100.0000         7.2574             52.0000   \n",
       "\n",
       "   total_rooms  total_bedrooms  population  households  latitude  longitude  \n",
       "0     880.0000        129.0000    322.0000    126.0000   37.8800  -122.2300  \n",
       "1    7099.0000       1106.0000   2401.0000   1138.0000   37.8600  -122.2200  \n",
       "2    1467.0000        190.0000    496.0000    177.0000   37.8500  -122.2400  "
      ]
     },
     "execution_count": 9,
     "metadata": {},
     "output_type": "execute_result"
    }
   ],
   "source": [
    "pd.options.display.float_format = '{:.4f}'.format\n",
    "\n",
    "df1.head(3)"
   ]
  },
  {
   "cell_type": "markdown",
   "id": "3ea27f72",
   "metadata": {},
   "source": [
    "### 4. Please store these lines into file cadata.csv. The lines in the file cadata.csv should be corresponding to the lines in cadata.txt except for the brief introduction part."
   ]
  },
  {
   "cell_type": "code",
   "execution_count": 10,
   "id": "b8ecc6b8",
   "metadata": {},
   "outputs": [],
   "source": [
    "df1.to_csv(\"cadata.csv\",index = None)"
   ]
  },
  {
   "cell_type": "markdown",
   "id": "1c08cb2b",
   "metadata": {},
   "source": [
    "<a id=\"title-three\"></a>\n",
    "## **<span>3.3 Combining data from two sources  </span>**"
   ]
  },
  {
   "cell_type": "markdown",
   "id": "ed1e2cc5",
   "metadata": {},
   "source": [
    "### 1. Please read data from both files named cadata.csv and ocean proximity.csv."
   ]
  },
  {
   "cell_type": "code",
   "execution_count": 1,
   "id": "03cc28e1",
   "metadata": {},
   "outputs": [
    {
     "data": {
      "text/html": [
       "<div>\n",
       "<style scoped>\n",
       "    .dataframe tbody tr th:only-of-type {\n",
       "        vertical-align: middle;\n",
       "    }\n",
       "\n",
       "    .dataframe tbody tr th {\n",
       "        vertical-align: top;\n",
       "    }\n",
       "\n",
       "    .dataframe thead th {\n",
       "        text-align: right;\n",
       "    }\n",
       "</style>\n",
       "<table border=\"1\" class=\"dataframe\">\n",
       "  <thead>\n",
       "    <tr style=\"text-align: right;\">\n",
       "      <th></th>\n",
       "      <th>block_group_id</th>\n",
       "      <th>median_house_value</th>\n",
       "      <th>median_income</th>\n",
       "      <th>housing_median_age</th>\n",
       "      <th>total_rooms</th>\n",
       "      <th>total_bedrooms</th>\n",
       "      <th>population</th>\n",
       "      <th>households</th>\n",
       "      <th>latitude</th>\n",
       "      <th>longitude</th>\n",
       "    </tr>\n",
       "  </thead>\n",
       "  <tbody>\n",
       "    <tr>\n",
       "      <th>0</th>\n",
       "      <td>1</td>\n",
       "      <td>452600.0</td>\n",
       "      <td>8.3252</td>\n",
       "      <td>41.0</td>\n",
       "      <td>880.0</td>\n",
       "      <td>129.0</td>\n",
       "      <td>322.0</td>\n",
       "      <td>126.0</td>\n",
       "      <td>37.88</td>\n",
       "      <td>-122.23</td>\n",
       "    </tr>\n",
       "    <tr>\n",
       "      <th>1</th>\n",
       "      <td>2</td>\n",
       "      <td>358500.0</td>\n",
       "      <td>8.3014</td>\n",
       "      <td>21.0</td>\n",
       "      <td>7099.0</td>\n",
       "      <td>1106.0</td>\n",
       "      <td>2401.0</td>\n",
       "      <td>1138.0</td>\n",
       "      <td>37.86</td>\n",
       "      <td>-122.22</td>\n",
       "    </tr>\n",
       "    <tr>\n",
       "      <th>2</th>\n",
       "      <td>3</td>\n",
       "      <td>352100.0</td>\n",
       "      <td>7.2574</td>\n",
       "      <td>52.0</td>\n",
       "      <td>1467.0</td>\n",
       "      <td>190.0</td>\n",
       "      <td>496.0</td>\n",
       "      <td>177.0</td>\n",
       "      <td>37.85</td>\n",
       "      <td>-122.24</td>\n",
       "    </tr>\n",
       "  </tbody>\n",
       "</table>\n",
       "</div>"
      ],
      "text/plain": [
       "   block_group_id  median_house_value  median_income  housing_median_age  \\\n",
       "0               1            452600.0         8.3252                41.0   \n",
       "1               2            358500.0         8.3014                21.0   \n",
       "2               3            352100.0         7.2574                52.0   \n",
       "\n",
       "   total_rooms  total_bedrooms  population  households  latitude  longitude  \n",
       "0        880.0           129.0       322.0       126.0     37.88    -122.23  \n",
       "1       7099.0          1106.0      2401.0      1138.0     37.86    -122.22  \n",
       "2       1467.0           190.0       496.0       177.0     37.85    -122.24  "
      ]
     },
     "execution_count": 1,
     "metadata": {},
     "output_type": "execute_result"
    }
   ],
   "source": [
    "import pandas as pd\n",
    "df1= pd.read_csv(\"cadata.csv\")\n",
    "df1.head(3)"
   ]
  },
  {
   "cell_type": "code",
   "execution_count": 2,
   "id": "011a2901",
   "metadata": {},
   "outputs": [
    {
     "data": {
      "text/plain": [
       "(20640, 10)"
      ]
     },
     "execution_count": 2,
     "metadata": {},
     "output_type": "execute_result"
    }
   ],
   "source": [
    "df1.shape"
   ]
  },
  {
   "cell_type": "code",
   "execution_count": 3,
   "id": "110a7b78",
   "metadata": {},
   "outputs": [
    {
     "data": {
      "text/html": [
       "<div>\n",
       "<style scoped>\n",
       "    .dataframe tbody tr th:only-of-type {\n",
       "        vertical-align: middle;\n",
       "    }\n",
       "\n",
       "    .dataframe tbody tr th {\n",
       "        vertical-align: top;\n",
       "    }\n",
       "\n",
       "    .dataframe thead th {\n",
       "        text-align: right;\n",
       "    }\n",
       "</style>\n",
       "<table border=\"1\" class=\"dataframe\">\n",
       "  <thead>\n",
       "    <tr style=\"text-align: right;\">\n",
       "      <th></th>\n",
       "      <th>block_group_id</th>\n",
       "      <th>ocean_proximity</th>\n",
       "    </tr>\n",
       "  </thead>\n",
       "  <tbody>\n",
       "    <tr>\n",
       "      <th>0</th>\n",
       "      <td>1</td>\n",
       "      <td>NEAR BAY</td>\n",
       "    </tr>\n",
       "    <tr>\n",
       "      <th>1</th>\n",
       "      <td>2</td>\n",
       "      <td>NEAR BAY</td>\n",
       "    </tr>\n",
       "    <tr>\n",
       "      <th>2</th>\n",
       "      <td>3</td>\n",
       "      <td>NEAR BAY</td>\n",
       "    </tr>\n",
       "  </tbody>\n",
       "</table>\n",
       "</div>"
      ],
      "text/plain": [
       "   block_group_id ocean_proximity\n",
       "0               1        NEAR BAY\n",
       "1               2        NEAR BAY\n",
       "2               3        NEAR BAY"
      ]
     },
     "execution_count": 3,
     "metadata": {},
     "output_type": "execute_result"
    }
   ],
   "source": [
    "df2= pd.read_csv(\"ocean_proximity.csv\")\n",
    "df2.head(3)"
   ]
  },
  {
   "cell_type": "code",
   "execution_count": 4,
   "id": "1d95be67",
   "metadata": {},
   "outputs": [
    {
     "data": {
      "text/plain": [
       "(20640, 2)"
      ]
     },
     "execution_count": 4,
     "metadata": {},
     "output_type": "execute_result"
    }
   ],
   "source": [
    "df2.shape"
   ]
  },
  {
   "cell_type": "markdown",
   "id": "b11fe5d9",
   "metadata": {},
   "source": [
    "### 2. Please combine the two datasets based on matching the variable block group ID. This means all variables with the same block group ID are combined together.\n"
   ]
  },
  {
   "cell_type": "code",
   "execution_count": 5,
   "id": "a3c3c692",
   "metadata": {},
   "outputs": [
    {
     "data": {
      "text/html": [
       "<div>\n",
       "<style scoped>\n",
       "    .dataframe tbody tr th:only-of-type {\n",
       "        vertical-align: middle;\n",
       "    }\n",
       "\n",
       "    .dataframe tbody tr th {\n",
       "        vertical-align: top;\n",
       "    }\n",
       "\n",
       "    .dataframe thead th {\n",
       "        text-align: right;\n",
       "    }\n",
       "</style>\n",
       "<table border=\"1\" class=\"dataframe\">\n",
       "  <thead>\n",
       "    <tr style=\"text-align: right;\">\n",
       "      <th></th>\n",
       "      <th>block_group_id</th>\n",
       "      <th>median_house_value</th>\n",
       "      <th>median_income</th>\n",
       "      <th>housing_median_age</th>\n",
       "      <th>total_rooms</th>\n",
       "      <th>total_bedrooms</th>\n",
       "      <th>population</th>\n",
       "      <th>households</th>\n",
       "      <th>latitude</th>\n",
       "      <th>longitude</th>\n",
       "      <th>ocean_proximity</th>\n",
       "    </tr>\n",
       "  </thead>\n",
       "  <tbody>\n",
       "    <tr>\n",
       "      <th>0</th>\n",
       "      <td>1</td>\n",
       "      <td>452600.0</td>\n",
       "      <td>8.3252</td>\n",
       "      <td>41.0</td>\n",
       "      <td>880.0</td>\n",
       "      <td>129.0</td>\n",
       "      <td>322.0</td>\n",
       "      <td>126.0</td>\n",
       "      <td>37.88</td>\n",
       "      <td>-122.23</td>\n",
       "      <td>NEAR BAY</td>\n",
       "    </tr>\n",
       "    <tr>\n",
       "      <th>1</th>\n",
       "      <td>2</td>\n",
       "      <td>358500.0</td>\n",
       "      <td>8.3014</td>\n",
       "      <td>21.0</td>\n",
       "      <td>7099.0</td>\n",
       "      <td>1106.0</td>\n",
       "      <td>2401.0</td>\n",
       "      <td>1138.0</td>\n",
       "      <td>37.86</td>\n",
       "      <td>-122.22</td>\n",
       "      <td>NEAR BAY</td>\n",
       "    </tr>\n",
       "    <tr>\n",
       "      <th>2</th>\n",
       "      <td>3</td>\n",
       "      <td>352100.0</td>\n",
       "      <td>7.2574</td>\n",
       "      <td>52.0</td>\n",
       "      <td>1467.0</td>\n",
       "      <td>190.0</td>\n",
       "      <td>496.0</td>\n",
       "      <td>177.0</td>\n",
       "      <td>37.85</td>\n",
       "      <td>-122.24</td>\n",
       "      <td>NEAR BAY</td>\n",
       "    </tr>\n",
       "  </tbody>\n",
       "</table>\n",
       "</div>"
      ],
      "text/plain": [
       "   block_group_id  median_house_value  median_income  housing_median_age  \\\n",
       "0               1            452600.0         8.3252                41.0   \n",
       "1               2            358500.0         8.3014                21.0   \n",
       "2               3            352100.0         7.2574                52.0   \n",
       "\n",
       "   total_rooms  total_bedrooms  population  households  latitude  longitude  \\\n",
       "0        880.0           129.0       322.0       126.0     37.88    -122.23   \n",
       "1       7099.0          1106.0      2401.0      1138.0     37.86    -122.22   \n",
       "2       1467.0           190.0       496.0       177.0     37.85    -122.24   \n",
       "\n",
       "  ocean_proximity  \n",
       "0        NEAR BAY  \n",
       "1        NEAR BAY  \n",
       "2        NEAR BAY  "
      ]
     },
     "execution_count": 5,
     "metadata": {},
     "output_type": "execute_result"
    }
   ],
   "source": [
    "# Thus we merge data by the variable block_group_id\n",
    "df3 = pd.merge(df1, df2, on=\"block_group_id\")\n",
    "df3.head(3)"
   ]
  },
  {
   "cell_type": "markdown",
   "id": "83df09d9",
   "metadata": {},
   "source": [
    "### 3. Please store the combined dataset into a new CSV file named data for analysis.csv. The first line of the new CSV file contains variable names. In each line, data or names are separated by commas."
   ]
  },
  {
   "cell_type": "code",
   "execution_count": 6,
   "id": "98c5c982",
   "metadata": {},
   "outputs": [],
   "source": [
    "df3.to_csv(\"data_for_analysis.csv\",index = None)"
   ]
  },
  {
   "cell_type": "markdown",
   "id": "c8f27b9c",
   "metadata": {},
   "source": [
    "<a id=\"title-four\"></a>\n",
    "## **<span>3.4 Exploratory data analysis   </span>**"
   ]
  },
  {
   "cell_type": "markdown",
   "id": "f819e4ef",
   "metadata": {},
   "source": [
    "### 1. For variables median house value, median income, and households, conduct the descriptive statistics. In detail, the mean, the variance, the mode, and the skew of those variables are calculated."
   ]
  },
  {
   "cell_type": "code",
   "execution_count": 7,
   "id": "78f14d63",
   "metadata": {},
   "outputs": [
    {
     "name": "stdout",
     "output_type": "stream",
     "text": [
      "<class 'pandas.core.frame.DataFrame'>\n",
      "RangeIndex: 20640 entries, 0 to 20639\n",
      "Data columns (total 11 columns):\n",
      " #   Column              Non-Null Count  Dtype  \n",
      "---  ------              --------------  -----  \n",
      " 0   block_group_id      20640 non-null  int64  \n",
      " 1   median_house_value  20640 non-null  float64\n",
      " 2   median_income       20640 non-null  float64\n",
      " 3   housing_median_age  20640 non-null  float64\n",
      " 4   total_rooms         20640 non-null  float64\n",
      " 5   total_bedrooms      20640 non-null  float64\n",
      " 6   population          20640 non-null  float64\n",
      " 7   households          20640 non-null  float64\n",
      " 8   latitude            20640 non-null  float64\n",
      " 9   longitude           20640 non-null  float64\n",
      " 10  ocean_proximity     20640 non-null  object \n",
      "dtypes: float64(9), int64(1), object(1)\n",
      "memory usage: 1.7+ MB\n"
     ]
    },
    {
     "data": {
      "text/html": [
       "<div>\n",
       "<style scoped>\n",
       "    .dataframe tbody tr th:only-of-type {\n",
       "        vertical-align: middle;\n",
       "    }\n",
       "\n",
       "    .dataframe tbody tr th {\n",
       "        vertical-align: top;\n",
       "    }\n",
       "\n",
       "    .dataframe thead th {\n",
       "        text-align: right;\n",
       "    }\n",
       "</style>\n",
       "<table border=\"1\" class=\"dataframe\">\n",
       "  <thead>\n",
       "    <tr style=\"text-align: right;\">\n",
       "      <th></th>\n",
       "      <th>block_group_id</th>\n",
       "      <th>median_house_value</th>\n",
       "      <th>median_income</th>\n",
       "      <th>housing_median_age</th>\n",
       "      <th>total_rooms</th>\n",
       "      <th>total_bedrooms</th>\n",
       "      <th>population</th>\n",
       "      <th>households</th>\n",
       "      <th>latitude</th>\n",
       "      <th>longitude</th>\n",
       "      <th>ocean_proximity</th>\n",
       "    </tr>\n",
       "  </thead>\n",
       "  <tbody>\n",
       "    <tr>\n",
       "      <th>0</th>\n",
       "      <td>1</td>\n",
       "      <td>452600.0</td>\n",
       "      <td>8.3252</td>\n",
       "      <td>41.0</td>\n",
       "      <td>880.0</td>\n",
       "      <td>129.0</td>\n",
       "      <td>322.0</td>\n",
       "      <td>126.0</td>\n",
       "      <td>37.88</td>\n",
       "      <td>-122.23</td>\n",
       "      <td>NEAR BAY</td>\n",
       "    </tr>\n",
       "    <tr>\n",
       "      <th>1</th>\n",
       "      <td>2</td>\n",
       "      <td>358500.0</td>\n",
       "      <td>8.3014</td>\n",
       "      <td>21.0</td>\n",
       "      <td>7099.0</td>\n",
       "      <td>1106.0</td>\n",
       "      <td>2401.0</td>\n",
       "      <td>1138.0</td>\n",
       "      <td>37.86</td>\n",
       "      <td>-122.22</td>\n",
       "      <td>NEAR BAY</td>\n",
       "    </tr>\n",
       "    <tr>\n",
       "      <th>2</th>\n",
       "      <td>3</td>\n",
       "      <td>352100.0</td>\n",
       "      <td>7.2574</td>\n",
       "      <td>52.0</td>\n",
       "      <td>1467.0</td>\n",
       "      <td>190.0</td>\n",
       "      <td>496.0</td>\n",
       "      <td>177.0</td>\n",
       "      <td>37.85</td>\n",
       "      <td>-122.24</td>\n",
       "      <td>NEAR BAY</td>\n",
       "    </tr>\n",
       "  </tbody>\n",
       "</table>\n",
       "</div>"
      ],
      "text/plain": [
       "   block_group_id  median_house_value  median_income  housing_median_age  \\\n",
       "0               1            452600.0         8.3252                41.0   \n",
       "1               2            358500.0         8.3014                21.0   \n",
       "2               3            352100.0         7.2574                52.0   \n",
       "\n",
       "   total_rooms  total_bedrooms  population  households  latitude  longitude  \\\n",
       "0        880.0           129.0       322.0       126.0     37.88    -122.23   \n",
       "1       7099.0          1106.0      2401.0      1138.0     37.86    -122.22   \n",
       "2       1467.0           190.0       496.0       177.0     37.85    -122.24   \n",
       "\n",
       "  ocean_proximity  \n",
       "0        NEAR BAY  \n",
       "1        NEAR BAY  \n",
       "2        NEAR BAY  "
      ]
     },
     "execution_count": 7,
     "metadata": {},
     "output_type": "execute_result"
    }
   ],
   "source": [
    "import pandas as pd\n",
    "df = pd.read_csv(\"data_for_analysis.csv\")\n",
    "df.info()\n",
    "df.head(3)"
   ]
  },
  {
   "cell_type": "markdown",
   "id": "d5329eff",
   "metadata": {},
   "source": [
    "####  There are no NA values in the data frame."
   ]
  },
  {
   "cell_type": "code",
   "execution_count": 8,
   "id": "38f0528a",
   "metadata": {},
   "outputs": [
    {
     "data": {
      "text/plain": [
       "(20640, 11)"
      ]
     },
     "execution_count": 8,
     "metadata": {},
     "output_type": "execute_result"
    }
   ],
   "source": [
    "df.shape # the dataframe has 20640 rows and 11 columns"
   ]
  },
  {
   "cell_type": "code",
   "execution_count": 9,
   "id": "0e7be6f3",
   "metadata": {},
   "outputs": [
    {
     "data": {
      "text/plain": [
       "ocean_proximity\n",
       "<1H OCEAN     9136\n",
       "INLAND        6551\n",
       "NEAR OCEAN    2658\n",
       "NEAR BAY      2290\n",
       "ISLAND           5\n",
       "Name: ocean_proximity, dtype: int64"
      ]
     },
     "execution_count": 9,
     "metadata": {},
     "output_type": "execute_result"
    }
   ],
   "source": [
    "# From the dataframe above we can see than only 'ocean_proximity' is nominal(non-numerical)\n",
    "# Get the basic features of 'ocean_proximity'\n",
    "ocean_status = df.groupby('ocean_proximity')['ocean_proximity'].agg('count').sort_values(ascending = False)\n",
    "ocean_status"
   ]
  },
  {
   "cell_type": "markdown",
   "id": "c2da4611",
   "metadata": {},
   "source": [
    "- For median house value:"
   ]
  },
  {
   "cell_type": "code",
   "execution_count": 10,
   "id": "d2f51f29",
   "metadata": {},
   "outputs": [
    {
     "data": {
      "text/plain": [
       "count     20640.000000\n",
       "mean     206855.816909\n",
       "std      115395.615874\n",
       "min       14999.000000\n",
       "25%      119600.000000\n",
       "50%      179700.000000\n",
       "75%      264725.000000\n",
       "max      500001.000000\n",
       "Name: median_house_value, dtype: float64"
      ]
     },
     "execution_count": 10,
     "metadata": {},
     "output_type": "execute_result"
    }
   ],
   "source": [
    "df['median_house_value'].describe()"
   ]
  },
  {
   "cell_type": "code",
   "execution_count": 11,
   "id": "0fda6a96",
   "metadata": {},
   "outputs": [
    {
     "name": "stdout",
     "output_type": "stream",
     "text": [
      "206855.81690891474\n",
      "13316148163.035124\n",
      "0    500001.0\n",
      "Name: median_house_value, dtype: float64\n",
      "0.9777632739098341\n"
     ]
    }
   ],
   "source": [
    "print(df['median_house_value'].mean())\n",
    "print(df['median_house_value'].var())\n",
    "print(df['median_house_value'].mode())\n",
    "print(df['median_house_value'].skew())"
   ]
  },
  {
   "cell_type": "markdown",
   "id": "f7a65290",
   "metadata": {},
   "source": [
    "#### Here we find that min median house value is 14999.000000 whereas the max is 500001.000000, with a wide variation of 13316148163.035124 in property values. We should remove outliers per location using mean and one standard deviation."
   ]
  },
  {
   "cell_type": "markdown",
   "id": "be331367",
   "metadata": {},
   "source": [
    "- For median income:"
   ]
  },
  {
   "cell_type": "code",
   "execution_count": 12,
   "id": "c892bb3c",
   "metadata": {},
   "outputs": [
    {
     "data": {
      "text/plain": [
       "count    20640.000000\n",
       "mean         3.870671\n",
       "std          1.899822\n",
       "min          0.499900\n",
       "25%          2.563400\n",
       "50%          3.534800\n",
       "75%          4.743250\n",
       "max         15.000100\n",
       "Name: median_income, dtype: float64"
      ]
     },
     "execution_count": 12,
     "metadata": {},
     "output_type": "execute_result"
    }
   ],
   "source": [
    "df['median_income'].describe()"
   ]
  },
  {
   "cell_type": "code",
   "execution_count": 13,
   "id": "6e0165c4",
   "metadata": {},
   "outputs": [
    {
     "name": "stdout",
     "output_type": "stream",
     "text": [
      "3.8706710029070246\n",
      "3.609322559976529\n",
      "0     3.1250\n",
      "1    15.0001\n",
      "Name: median_income, dtype: float64\n",
      "1.6466567021344465\n"
     ]
    }
   ],
   "source": [
    "print(df['median_income'].mean())\n",
    "print(df['median_income'].var())\n",
    "print(df['median_income'].mode())\n",
    "print(df['median_income'].skew())"
   ]
  },
  {
   "cell_type": "markdown",
   "id": "713318a8",
   "metadata": {},
   "source": [
    "- For households:"
   ]
  },
  {
   "cell_type": "code",
   "execution_count": 14,
   "id": "2704c763",
   "metadata": {},
   "outputs": [
    {
     "data": {
      "text/plain": [
       "count    20640.000000\n",
       "mean       499.539680\n",
       "std        382.329753\n",
       "min          1.000000\n",
       "25%        280.000000\n",
       "50%        409.000000\n",
       "75%        605.000000\n",
       "max       6082.000000\n",
       "Name: households, dtype: float64"
      ]
     },
     "execution_count": 14,
     "metadata": {},
     "output_type": "execute_result"
    }
   ],
   "source": [
    "df['households'].describe()"
   ]
  },
  {
   "cell_type": "code",
   "execution_count": 15,
   "id": "2f2078e2",
   "metadata": {},
   "outputs": [
    {
     "name": "stdout",
     "output_type": "stream",
     "text": [
      "499.5396802325581\n",
      "146176.03990027992\n",
      "0    306.0\n",
      "Name: households, dtype: float64\n",
      "3.410437711667147\n"
     ]
    }
   ],
   "source": [
    "print(df['households'].mean())\n",
    "print(df['households'].var())\n",
    "print(df['households'].mode())\n",
    "print(df['households'].skew())"
   ]
  },
  {
   "cell_type": "markdown",
   "id": "c5e0409e",
   "metadata": {},
   "source": [
    "### 2. For the three variables housing median age, total rooms, and population, please draw a histogram for each variable. These histograms are to show how the values distribute among their value intervals. "
   ]
  },
  {
   "cell_type": "code",
   "execution_count": 16,
   "id": "d64fc8ed",
   "metadata": {},
   "outputs": [
    {
     "data": {
      "image/png": "[encoded data removed]",
      "text/plain": [
       "<Figure size 720x504 with 1 Axes>"
      ]
     },
     "metadata": {},
     "output_type": "display_data"
    },
    {
     "data": {
      "image/png": "[encoded data removed]",
      "text/plain": [
       "<Figure size 720x504 with 1 Axes>"
      ]
     },
     "metadata": {},
     "output_type": "display_data"
    },
    {
     "data": {
      "image/png": "[encoded data removed]",
      "text/plain": [
       "<Figure size 720x504 with 1 Axes>"
      ]
     },
     "metadata": {},
     "output_type": "display_data"
    }
   ],
   "source": [
    "import matplotlib.pyplot as plt\n",
    "import seaborn as sns\n",
    "\n",
    "variables_names = ['housing_median_age','total_rooms','population']\n",
    "palette = plt.get_cmap('tab20c')#'Pastel2')\n",
    "\n",
    "for variable_name in variables_names:\n",
    "    plt.style.use('seaborn-darkgrid')\n",
    "    plt.figure(figsize=(10,7))\n",
    "    plt.hist(df[variable_name],color = palette.colors[1])\n",
    "    plt.title(f'Histogram for {variable_name}')\n",
    "    plt.xlabel(variable_name, size=12)\n",
    "    plt.tight_layout()"
   ]
  },
  {
   "cell_type": "markdown",
   "id": "dc393065",
   "metadata": {},
   "source": [
    "#### The histograms show that housing_median_age follows an approximately normal distribution while total rooms and populations are not."
   ]
  },
  {
   "cell_type": "markdown",
   "id": "ed259d10",
   "metadata": {},
   "source": [
    "### 3. Please draw scatterplots to preliminarily explore the relationship between variables and median house value. Specifically, you should draw these scatterplots:"
   ]
  },
  {
   "cell_type": "code",
   "execution_count": 17,
   "id": "f922ae2a",
   "metadata": {},
   "outputs": [
    {
     "data": {
      "image/png": "[encoded data removed]",
      "text/plain": [
       "<Figure size 720x504 with 1 Axes>"
      ]
     },
     "metadata": {},
     "output_type": "display_data"
    },
    {
     "data": {
      "image/png": "[encoded data removed]",
      "text/plain": [
       "<Figure size 720x504 with 1 Axes>"
      ]
     },
     "metadata": {},
     "output_type": "display_data"
    },
    {
     "data": {
      "image/png": "[encoded data removed]",
      "text/plain": [
       "<Figure size 720x504 with 1 Axes>"
      ]
     },
     "metadata": {},
     "output_type": "display_data"
    }
   ],
   "source": [
    "feature_names = ['median_income','total_rooms','population']\n",
    "palette = plt.get_cmap('tab20c')#'Pastel2')\n",
    "\n",
    "for index, feature_name in enumerate(feature_names):\n",
    "    plt.style.use('seaborn-darkgrid')\n",
    "    plt.figure(figsize=(10, 7))\n",
    "    plt.scatter(df[feature_name], df['median_house_value'],color = palette.colors[0])\n",
    "    plt.xlabel(feature_name, size=12)\n",
    "    plt.title(f'median house value VS {feature_name}')\n",
    "    plt.tight_layout()"
   ]
  },
  {
   "cell_type": "markdown",
   "id": "4a5248cf",
   "metadata": {},
   "source": [
    "#### The scatterplots show that median house value positively correlates with median income but has no apparent relationship with total rooms and population. The scatterplots also indicate some extreme values(outliers), which need to be wrangled."
   ]
  },
  {
   "cell_type": "markdown",
   "id": "58c2dd78",
   "metadata": {},
   "source": [
    "### 4. The above results should be shown in table in pretty print style."
   ]
  },
  {
   "cell_type": "markdown",
   "id": "f8c44cc1",
   "metadata": {},
   "source": [
    "<a id=\"title-five\"></a>\n",
    "## **3.5 <span>Partitioning data and predicting housing prices  </span>**"
   ]
  },
  {
   "cell_type": "markdown",
   "id": "47f19f71",
   "metadata": {},
   "source": [
    "### 1. Partitioning data set into train data set and test data set. To be objective, systematic sampling should be used when partitioning data. The train data set should be about 80% of all data points and the test data set should be 20% of them. "
   ]
  },
  {
   "cell_type": "markdown",
   "id": "c137298f",
   "metadata": {},
   "source": [
    "#### For data analysis, we should perform some data cleaning and feature engineering before partitioning data "
   ]
  },
  {
   "cell_type": "markdown",
   "id": "b8f01dbe",
   "metadata": {},
   "source": [
    "#### Remove Outliers in housing prices"
   ]
  },
  {
   "cell_type": "code",
   "execution_count": 18,
   "id": "7767713a",
   "metadata": {},
   "outputs": [
    {
     "data": {
      "text/plain": [
       "(15400, 11)"
      ]
     },
     "execution_count": 18,
     "metadata": {},
     "output_type": "execute_result"
    }
   ],
   "source": [
    "import numpy as np\n",
    "def remove_mhv_outliers(df):\n",
    "    df_out = pd.DataFrame()\n",
    "    for key, subdf in df.groupby('ocean_proximity'):\n",
    "        m = np.mean(subdf.median_house_value)\n",
    "        st = np.std(subdf.median_house_value)\n",
    "        reduced_df = subdf[(subdf.median_house_value>(m-st)) & (subdf.median_house_value<=(m+st))]\n",
    "        # Using mean and one standard deviation(95% Confidence Interval)\n",
    "        df_out = pd.concat([df_out,reduced_df],ignore_index=True)\n",
    "    return df_out\n",
    "df_ = remove_mhv_outliers(df)\n",
    "df_.shape"
   ]
  },
  {
   "cell_type": "markdown",
   "id": "0413d936",
   "metadata": {},
   "source": [
    "#### For data analysis, we should perform one-hot encoding for feature engineering."
   ]
  },
  {
   "cell_type": "code",
   "execution_count": 19,
   "id": "9ba16dcb",
   "metadata": {},
   "outputs": [
    {
     "data": {
      "text/html": [
       "<div>\n",
       "<style scoped>\n",
       "    .dataframe tbody tr th:only-of-type {\n",
       "        vertical-align: middle;\n",
       "    }\n",
       "\n",
       "    .dataframe tbody tr th {\n",
       "        vertical-align: top;\n",
       "    }\n",
       "\n",
       "    .dataframe thead th {\n",
       "        text-align: right;\n",
       "    }\n",
       "</style>\n",
       "<table border=\"1\" class=\"dataframe\">\n",
       "  <thead>\n",
       "    <tr style=\"text-align: right;\">\n",
       "      <th></th>\n",
       "      <th>block_group_id</th>\n",
       "      <th>median_house_value</th>\n",
       "      <th>median_income</th>\n",
       "      <th>housing_median_age</th>\n",
       "      <th>total_rooms</th>\n",
       "      <th>total_bedrooms</th>\n",
       "      <th>population</th>\n",
       "      <th>households</th>\n",
       "      <th>latitude</th>\n",
       "      <th>longitude</th>\n",
       "      <th>ocean_proximity</th>\n",
       "    </tr>\n",
       "  </thead>\n",
       "  <tbody>\n",
       "    <tr>\n",
       "      <th>0</th>\n",
       "      <td>831</td>\n",
       "      <td>217000.0</td>\n",
       "      <td>4.6458</td>\n",
       "      <td>9.0</td>\n",
       "      <td>3666.0</td>\n",
       "      <td>711.0</td>\n",
       "      <td>2341.0</td>\n",
       "      <td>703.0</td>\n",
       "      <td>37.61</td>\n",
       "      <td>-121.99</td>\n",
       "      <td>&lt;1H OCEAN</td>\n",
       "    </tr>\n",
       "    <tr>\n",
       "      <th>1</th>\n",
       "      <td>860</td>\n",
       "      <td>247600.0</td>\n",
       "      <td>4.6146</td>\n",
       "      <td>21.0</td>\n",
       "      <td>4342.0</td>\n",
       "      <td>783.0</td>\n",
       "      <td>2172.0</td>\n",
       "      <td>789.0</td>\n",
       "      <td>37.57</td>\n",
       "      <td>-121.97</td>\n",
       "      <td>&lt;1H OCEAN</td>\n",
       "    </tr>\n",
       "    <tr>\n",
       "      <th>2</th>\n",
       "      <td>861</td>\n",
       "      <td>283500.0</td>\n",
       "      <td>5.7192</td>\n",
       "      <td>15.0</td>\n",
       "      <td>3575.0</td>\n",
       "      <td>597.0</td>\n",
       "      <td>1777.0</td>\n",
       "      <td>559.0</td>\n",
       "      <td>37.58</td>\n",
       "      <td>-121.96</td>\n",
       "      <td>&lt;1H OCEAN</td>\n",
       "    </tr>\n",
       "  </tbody>\n",
       "</table>\n",
       "</div>"
      ],
      "text/plain": [
       "   block_group_id  median_house_value  median_income  housing_median_age  \\\n",
       "0             831            217000.0         4.6458                 9.0   \n",
       "1             860            247600.0         4.6146                21.0   \n",
       "2             861            283500.0         5.7192                15.0   \n",
       "\n",
       "   total_rooms  total_bedrooms  population  households  latitude  longitude  \\\n",
       "0       3666.0           711.0      2341.0       703.0     37.61    -121.99   \n",
       "1       4342.0           783.0      2172.0       789.0     37.57    -121.97   \n",
       "2       3575.0           597.0      1777.0       559.0     37.58    -121.96   \n",
       "\n",
       "  ocean_proximity  \n",
       "0       <1H OCEAN  \n",
       "1       <1H OCEAN  \n",
       "2       <1H OCEAN  "
      ]
     },
     "execution_count": 19,
     "metadata": {},
     "output_type": "execute_result"
    }
   ],
   "source": [
    "df_.head(3)"
   ]
  },
  {
   "cell_type": "code",
   "execution_count": 20,
   "id": "da0b9b1e",
   "metadata": {},
   "outputs": [
    {
     "data": {
      "text/html": [
       "<div>\n",
       "<style scoped>\n",
       "    .dataframe tbody tr th:only-of-type {\n",
       "        vertical-align: middle;\n",
       "    }\n",
       "\n",
       "    .dataframe tbody tr th {\n",
       "        vertical-align: top;\n",
       "    }\n",
       "\n",
       "    .dataframe thead th {\n",
       "        text-align: right;\n",
       "    }\n",
       "</style>\n",
       "<table border=\"1\" class=\"dataframe\">\n",
       "  <thead>\n",
       "    <tr style=\"text-align: right;\">\n",
       "      <th></th>\n",
       "      <th>&lt;1H OCEAN</th>\n",
       "      <th>INLAND</th>\n",
       "      <th>ISLAND</th>\n",
       "      <th>NEAR BAY</th>\n",
       "      <th>NEAR OCEAN</th>\n",
       "    </tr>\n",
       "  </thead>\n",
       "  <tbody>\n",
       "    <tr>\n",
       "      <th>0</th>\n",
       "      <td>1</td>\n",
       "      <td>0</td>\n",
       "      <td>0</td>\n",
       "      <td>0</td>\n",
       "      <td>0</td>\n",
       "    </tr>\n",
       "    <tr>\n",
       "      <th>1</th>\n",
       "      <td>1</td>\n",
       "      <td>0</td>\n",
       "      <td>0</td>\n",
       "      <td>0</td>\n",
       "      <td>0</td>\n",
       "    </tr>\n",
       "    <tr>\n",
       "      <th>2</th>\n",
       "      <td>1</td>\n",
       "      <td>0</td>\n",
       "      <td>0</td>\n",
       "      <td>0</td>\n",
       "      <td>0</td>\n",
       "    </tr>\n",
       "  </tbody>\n",
       "</table>\n",
       "</div>"
      ],
      "text/plain": [
       "   <1H OCEAN  INLAND  ISLAND  NEAR BAY  NEAR OCEAN\n",
       "0          1       0       0         0           0\n",
       "1          1       0       0         0           0\n",
       "2          1       0       0         0           0"
      ]
     },
     "execution_count": 20,
     "metadata": {},
     "output_type": "execute_result"
    }
   ],
   "source": [
    "# To construct a predictive model, we should convert 'ocean_proximity' to dummy variables\n",
    "dummies = pd.get_dummies(df_.ocean_proximity)\n",
    "dummies.head(3)"
   ]
  },
  {
   "cell_type": "code",
   "execution_count": 21,
   "id": "32541ba6",
   "metadata": {},
   "outputs": [
    {
     "data": {
      "text/plain": [
       "ocean_proximity\n",
       "<1H OCEAN     6690\n",
       "INLAND        5411\n",
       "NEAR OCEAN    1779\n",
       "NEAR BAY      1517\n",
       "ISLAND           3\n",
       "Name: ocean_proximity, dtype: int64"
      ]
     },
     "execution_count": 21,
     "metadata": {},
     "output_type": "execute_result"
    }
   ],
   "source": [
    "# From the dataframe above we can see than only 'ocean_proximity' is nominal(non-numerical)\n",
    "# Get the basic features of 'ocean_proximity'\n",
    "ocean_status = df_.groupby('ocean_proximity')['ocean_proximity'].agg('count').sort_values(ascending = False)\n",
    "ocean_status"
   ]
  },
  {
   "cell_type": "code",
   "execution_count": 22,
   "id": "827ecd46",
   "metadata": {},
   "outputs": [
    {
     "data": {
      "text/html": [
       "<div>\n",
       "<style scoped>\n",
       "    .dataframe tbody tr th:only-of-type {\n",
       "        vertical-align: middle;\n",
       "    }\n",
       "\n",
       "    .dataframe tbody tr th {\n",
       "        vertical-align: top;\n",
       "    }\n",
       "\n",
       "    .dataframe thead th {\n",
       "        text-align: right;\n",
       "    }\n",
       "</style>\n",
       "<table border=\"1\" class=\"dataframe\">\n",
       "  <thead>\n",
       "    <tr style=\"text-align: right;\">\n",
       "      <th></th>\n",
       "      <th>median_house_value</th>\n",
       "      <th>median_income</th>\n",
       "      <th>housing_median_age</th>\n",
       "      <th>total_rooms</th>\n",
       "      <th>total_bedrooms</th>\n",
       "      <th>population</th>\n",
       "      <th>households</th>\n",
       "      <th>latitude</th>\n",
       "      <th>longitude</th>\n",
       "      <th>&lt;1H OCEAN</th>\n",
       "      <th>INLAND</th>\n",
       "      <th>NEAR BAY</th>\n",
       "      <th>NEAR OCEAN</th>\n",
       "    </tr>\n",
       "  </thead>\n",
       "  <tbody>\n",
       "    <tr>\n",
       "      <th>0</th>\n",
       "      <td>217000.0</td>\n",
       "      <td>4.6458</td>\n",
       "      <td>9.0</td>\n",
       "      <td>3666.0</td>\n",
       "      <td>711.0</td>\n",
       "      <td>2341.0</td>\n",
       "      <td>703.0</td>\n",
       "      <td>37.61</td>\n",
       "      <td>-121.99</td>\n",
       "      <td>1</td>\n",
       "      <td>0</td>\n",
       "      <td>0</td>\n",
       "      <td>0</td>\n",
       "    </tr>\n",
       "    <tr>\n",
       "      <th>1</th>\n",
       "      <td>247600.0</td>\n",
       "      <td>4.6146</td>\n",
       "      <td>21.0</td>\n",
       "      <td>4342.0</td>\n",
       "      <td>783.0</td>\n",
       "      <td>2172.0</td>\n",
       "      <td>789.0</td>\n",
       "      <td>37.57</td>\n",
       "      <td>-121.97</td>\n",
       "      <td>1</td>\n",
       "      <td>0</td>\n",
       "      <td>0</td>\n",
       "      <td>0</td>\n",
       "    </tr>\n",
       "    <tr>\n",
       "      <th>2</th>\n",
       "      <td>283500.0</td>\n",
       "      <td>5.7192</td>\n",
       "      <td>15.0</td>\n",
       "      <td>3575.0</td>\n",
       "      <td>597.0</td>\n",
       "      <td>1777.0</td>\n",
       "      <td>559.0</td>\n",
       "      <td>37.58</td>\n",
       "      <td>-121.96</td>\n",
       "      <td>1</td>\n",
       "      <td>0</td>\n",
       "      <td>0</td>\n",
       "      <td>0</td>\n",
       "    </tr>\n",
       "  </tbody>\n",
       "</table>\n",
       "</div>"
      ],
      "text/plain": [
       "   median_house_value  median_income  housing_median_age  total_rooms  \\\n",
       "0            217000.0         4.6458                 9.0       3666.0   \n",
       "1            247600.0         4.6146                21.0       4342.0   \n",
       "2            283500.0         5.7192                15.0       3575.0   \n",
       "\n",
       "   total_bedrooms  population  households  latitude  longitude  <1H OCEAN  \\\n",
       "0           711.0      2341.0       703.0     37.61    -121.99          1   \n",
       "1           783.0      2172.0       789.0     37.57    -121.97          1   \n",
       "2           597.0      1777.0       559.0     37.58    -121.96          1   \n",
       "\n",
       "   INLAND  NEAR BAY  NEAR OCEAN  \n",
       "0       0         0           0  \n",
       "1       0         0           0  \n",
       "2       0         0           0  "
      ]
     },
     "execution_count": 22,
     "metadata": {},
     "output_type": "execute_result"
    }
   ],
   "source": [
    "# We drop ISLAND in ocean proximity to avoid the dummy variable trap\n",
    "new_df = pd.concat([df_,dummies.drop('ISLAND',axis='columns')],axis='columns')\n",
    "# ocean_proximity and block_group_id are meaningless in building the predictive model, drop them\n",
    "new_df = new_df.drop(['ocean_proximity','block_group_id'],axis='columns')\n",
    "new_df.head(3)"
   ]
  },
  {
   "cell_type": "markdown",
   "id": "6de2430d",
   "metadata": {},
   "source": [
    "#### Now we can partition the data set into train data set and test data set by systematic sampling."
   ]
  },
  {
   "cell_type": "code",
   "execution_count": 23,
   "id": "7d598237",
   "metadata": {},
   "outputs": [],
   "source": [
    "# So we select 1 out of 5 observations as test data; the rest is the training data\n",
    "import numpy as np\n",
    "import pandas as pd\n",
    "import random\n",
    "\n",
    "random.seed(0)\n",
    "start_index= random.randint(0,5)\n",
    "indexes = np.arange(start_index, len(df_), step=5)\n",
    "\n",
    "test = new_df.iloc[indexes]\n",
    "train = new_df.drop(df_.index[indexes])"
   ]
  },
  {
   "cell_type": "markdown",
   "id": "679af285",
   "metadata": {},
   "source": [
    "<a id=\"title-3.5.2\"></a>\n",
    "### **2. <span>Students should program to predict the median house value based on other variables in the file data for analysis.csv. Please construct the prediction model as a function/functions and call the function(s) when make prediction. The prediction model can be linear regression, logistic regression or any other feasible one. The students are required to utilize at lease one self-constructed model for prediction.  </span>**\n",
    "\n",
    "\n",
    "  "
   ]
  },
  {
   "cell_type": "code",
   "execution_count": 24,
   "id": "c69b6feb",
   "metadata": {},
   "outputs": [],
   "source": [
    "y_train = train['median_house_value'] # median house value is our prediction target\n",
    "X_train = train.drop(['median_house_value'],axis=1)\n",
    "\n",
    "y_test = test['median_house_value'] # prediction target\n",
    "X_test = test.drop(['median_house_value'],axis=1)"
   ]
  },
  {
   "cell_type": "code",
   "execution_count": 25,
   "id": "15a1246a",
   "metadata": {},
   "outputs": [
    {
     "data": {
      "text/html": [
       "<div>\n",
       "<style scoped>\n",
       "    .dataframe tbody tr th:only-of-type {\n",
       "        vertical-align: middle;\n",
       "    }\n",
       "\n",
       "    .dataframe tbody tr th {\n",
       "        vertical-align: top;\n",
       "    }\n",
       "\n",
       "    .dataframe thead th {\n",
       "        text-align: right;\n",
       "    }\n",
       "</style>\n",
       "<table border=\"1\" class=\"dataframe\">\n",
       "  <thead>\n",
       "    <tr style=\"text-align: right;\">\n",
       "      <th></th>\n",
       "      <th>median_income</th>\n",
       "      <th>housing_median_age</th>\n",
       "      <th>total_rooms</th>\n",
       "      <th>total_bedrooms</th>\n",
       "      <th>population</th>\n",
       "      <th>households</th>\n",
       "      <th>latitude</th>\n",
       "      <th>longitude</th>\n",
       "      <th>&lt;1H OCEAN</th>\n",
       "      <th>INLAND</th>\n",
       "      <th>NEAR BAY</th>\n",
       "      <th>NEAR OCEAN</th>\n",
       "    </tr>\n",
       "  </thead>\n",
       "  <tbody>\n",
       "    <tr>\n",
       "      <th>0</th>\n",
       "      <td>4.6458</td>\n",
       "      <td>9.0</td>\n",
       "      <td>3666.0</td>\n",
       "      <td>711.0</td>\n",
       "      <td>2341.0</td>\n",
       "      <td>703.0</td>\n",
       "      <td>37.61</td>\n",
       "      <td>-121.99</td>\n",
       "      <td>1</td>\n",
       "      <td>0</td>\n",
       "      <td>0</td>\n",
       "      <td>0</td>\n",
       "    </tr>\n",
       "    <tr>\n",
       "      <th>1</th>\n",
       "      <td>4.6146</td>\n",
       "      <td>21.0</td>\n",
       "      <td>4342.0</td>\n",
       "      <td>783.0</td>\n",
       "      <td>2172.0</td>\n",
       "      <td>789.0</td>\n",
       "      <td>37.57</td>\n",
       "      <td>-121.97</td>\n",
       "      <td>1</td>\n",
       "      <td>0</td>\n",
       "      <td>0</td>\n",
       "      <td>0</td>\n",
       "    </tr>\n",
       "    <tr>\n",
       "      <th>2</th>\n",
       "      <td>5.7192</td>\n",
       "      <td>15.0</td>\n",
       "      <td>3575.0</td>\n",
       "      <td>597.0</td>\n",
       "      <td>1777.0</td>\n",
       "      <td>559.0</td>\n",
       "      <td>37.58</td>\n",
       "      <td>-121.96</td>\n",
       "      <td>1</td>\n",
       "      <td>0</td>\n",
       "      <td>0</td>\n",
       "      <td>0</td>\n",
       "    </tr>\n",
       "  </tbody>\n",
       "</table>\n",
       "</div>"
      ],
      "text/plain": [
       "   median_income  housing_median_age  total_rooms  total_bedrooms  population  \\\n",
       "0         4.6458                 9.0       3666.0           711.0      2341.0   \n",
       "1         4.6146                21.0       4342.0           783.0      2172.0   \n",
       "2         5.7192                15.0       3575.0           597.0      1777.0   \n",
       "\n",
       "   households  latitude  longitude  <1H OCEAN  INLAND  NEAR BAY  NEAR OCEAN  \n",
       "0       703.0     37.61    -121.99          1       0         0           0  \n",
       "1       789.0     37.57    -121.97          1       0         0           0  \n",
       "2       559.0     37.58    -121.96          1       0         0           0  "
      ]
     },
     "execution_count": 25,
     "metadata": {},
     "output_type": "execute_result"
    }
   ],
   "source": [
    "X_train.head(3)"
   ]
  },
  {
   "cell_type": "markdown",
   "id": "a0e58725",
   "metadata": {},
   "source": [
    "<a id=\"title-3.5.2.1\"></a>\n",
    "### **<span style=\"color:#CD5C5C;\">1. Linear Regression </span>**"
   ]
  },
  {
   "cell_type": "code",
   "execution_count": 26,
   "id": "532b2ea9",
   "metadata": {},
   "outputs": [
    {
     "data": {
      "text/plain": [
       "0.6747352271685387"
      ]
     },
     "execution_count": 26,
     "metadata": {},
     "output_type": "execute_result"
    }
   ],
   "source": [
    "from sklearn.linear_model import LinearRegression\n",
    "\n",
    "np.random.seed(1)\n",
    "lr_clf = LinearRegression()\n",
    "lr_clf.fit(X_train, y_train)\n",
    "y_predTrain_1 = lr_clf.predict(X_train)\n",
    "y_predTest_1 = lr_clf.predict(X_test)\n",
    "lr_clf.score(X_test, y_test)"
   ]
  },
  {
   "cell_type": "markdown",
   "id": "825e120d",
   "metadata": {},
   "source": [
    "#### The score is relatively low, so we construct another model to predict the median house value."
   ]
  },
  {
   "cell_type": "markdown",
   "id": "f2f3d767",
   "metadata": {},
   "source": [
    "<a id=\"title-3.5.2.2\"></a>\n",
    "### **<span style=\"color:#CD5C5C;\">2. Decision Tree </span>**"
   ]
  },
  {
   "cell_type": "code",
   "execution_count": 27,
   "id": "dcb8ca55",
   "metadata": {},
   "outputs": [
    {
     "data": {
      "text/plain": [
       "0.669459470529002"
      ]
     },
     "execution_count": 27,
     "metadata": {},
     "output_type": "execute_result"
    }
   ],
   "source": [
    "from sklearn.tree import DecisionTreeRegressor\n",
    "\n",
    "dt_clf = DecisionTreeRegressor(random_state=0)\n",
    "dt_clf.fit(X_train, y_train)\n",
    "y_predTrain_2 = dt_clf.predict(X_train)\n",
    "y_predTest_2 = dt_clf.predict(X_test)\n",
    "dt_clf.score(X_test, y_test)"
   ]
  },
  {
   "cell_type": "markdown",
   "id": "10238d48",
   "metadata": {},
   "source": [
    "####  Decision Tree is still not good enough."
   ]
  },
  {
   "cell_type": "markdown",
   "id": "0b37dc20",
   "metadata": {},
   "source": [
    "<a id=\"title-3.5.2.3\"></a>\n",
    "### **<span style=\"color:#CD5C5C;\">3. Ensemble </span>**"
   ]
  },
  {
   "cell_type": "code",
   "execution_count": 28,
   "id": "e6f29394",
   "metadata": {},
   "outputs": [
    {
     "data": {
      "text/plain": [
       "0.8435802806790624"
      ]
     },
     "execution_count": 28,
     "metadata": {},
     "output_type": "execute_result"
    }
   ],
   "source": [
    "from sklearn import ensemble\n",
    "en_clf = ensemble.GradientBoostingRegressor(n_estimators = 400, max_depth = 6, min_samples_split = 3,\n",
    "          learning_rate = 0.1, loss = 'squared_error')\n",
    "en_clf.fit(X_train, y_train)\n",
    "y_predTrain_3 = en_clf.predict(X_train)\n",
    "y_predTest_3 = en_clf.predict(X_test)\n",
    "en_clf.score(X_test,y_test)"
   ]
  },
  {
   "cell_type": "markdown",
   "id": "0e1f979b",
   "metadata": {},
   "source": [
    "#### This time the performance is much better!"
   ]
  },
  {
   "cell_type": "markdown",
   "id": "95da9c03",
   "metadata": {},
   "source": [
    "#### Based on above results we can say that Ensemble gives the best score. Hence we will use that."
   ]
  },
  {
   "cell_type": "markdown",
   "id": "6b8eb275",
   "metadata": {},
   "source": [
    "### 3. Evaluating the prediction results. The student should compare the prediction value and the real value, and then calculate the mean squared error (MSE) of the prediction."
   ]
  },
  {
   "cell_type": "markdown",
   "id": "c58df31c",
   "metadata": {},
   "source": [
    "Here is the formula of MSE:\n",
    "- $$MSE =\\frac{1}{m}\\sum^{m}_{i =1}{(f(x_i)-y_i)^2},$$\n",
    "where m is the number of cases in the test set, f(xi) is the predicted value of case i in the test set, and yi is the real value of median house value of case i in the test case. "
   ]
  },
  {
   "cell_type": "code",
   "execution_count": 35,
   "id": "bb0a46fe",
   "metadata": {},
   "outputs": [
    {
     "data": {
      "text/plain": [
       "884000831.9631711"
      ]
     },
     "execution_count": 35,
     "metadata": {},
     "output_type": "execute_result"
    }
   ],
   "source": [
    "import numpy as np\n",
    "np.square(y_predTest_3-y_test).mean()"
   ]
  },
  {
   "cell_type": "code",
   "execution_count": 36,
   "id": "b70d218e",
   "metadata": {},
   "outputs": [
    {
     "data": {
      "text/plain": [
       "216900.0"
      ]
     },
     "execution_count": 36,
     "metadata": {},
     "output_type": "execute_result"
    }
   ],
   "source": [
    "list(y_test)[0]"
   ]
  },
  {
   "cell_type": "code",
   "execution_count": 37,
   "id": "b46d796e",
   "metadata": {},
   "outputs": [
    {
     "data": {
      "text/plain": [
       "241643.46030518046"
      ]
     },
     "execution_count": 37,
     "metadata": {},
     "output_type": "execute_result"
    }
   ],
   "source": [
    "y_predTest_3[0]"
   ]
  }
 ],
 "metadata": {
  "kernelspec": {
   "display_name": "Python 3 (ipykernel)",
   "language": "python",
   "name": "python3"
  },
  "language_info": {
   "codemirror_mode": {
    "name": "ipython",
    "version": 3
   },
   "file_extension": ".py",
   "mimetype": "text/x-python",
   "name": "python",
   "nbconvert_exporter": "python",
   "pygments_lexer": "ipython3",
   "version": "3.9.12"
  }
 },
 "nbformat": 4,
 "nbformat_minor": 5
}
